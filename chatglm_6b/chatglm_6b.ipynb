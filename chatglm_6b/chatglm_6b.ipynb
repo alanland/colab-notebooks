{
  "cells": [
    {
      "cell_type": "markdown",
      "metadata": {
        "id": "view-in-github",
        "colab_type": "text"
      },
      "source": [
        "<a href=\"https://colab.research.google.com/github/alanland/colab-notebooks/blob/main/chatglm_6b/chatglm_6b.ipynb\" target=\"_parent\"><img src=\"https://colab.research.google.com/assets/colab-badge.svg\" alt=\"Open In Colab\"/></a>"
      ]
    },
    {
      "cell_type": "markdown",
      "source": [
        "# Check"
      ],
      "metadata": {
        "id": "8YCA3sMBDw1Q"
      }
    },
    {
      "cell_type": "code",
      "source": [
        "!nvcc --version\n",
        "!nvidia-smi            # 查看GPU信息 #1"
      ],
      "metadata": {
        "id": "qB40XuBTD0EP"
      },
      "execution_count": null,
      "outputs": []
    },
    {
      "cell_type": "markdown",
      "source": [
        "# Clone code & install dependencies"
      ],
      "metadata": {
        "id": "eniipehND1LS"
      }
    },
    {
      "cell_type": "code",
      "source": [
        "%cd /content\n",
        "#!git clone https://github.com/THUDM/ChatGLM-6B\n",
        "!git clone https://github.com/alanland/ChatGLM-6B\n",
        "%cd ChatGLM-6B\n",
        "!pip install -r requirements.txt\n"
      ],
      "metadata": {
        "id": "j8uzlVw5D3g_"
      },
      "execution_count": null,
      "outputs": []
    },
    {
      "cell_type": "code",
      "source": [
        "!git checkout local-alan\n",
        "!git pull\n",
        "!cat web_demo.py"
      ],
      "metadata": {
        "id": "4F9Q0QgVEEQi"
      },
      "execution_count": null,
      "outputs": []
    },
    {
      "cell_type": "markdown",
      "source": [
        "# Run"
      ],
      "metadata": {
        "id": "JcA_G7lYEGTe"
      }
    },
    {
      "cell_type": "code",
      "source": [
        "#@title Run Web demo\n",
        "!git pull\n",
        "!export PYTHONIOENCODING=utf8\n",
        "!export PYTORCH_CUDA_ALLOC_CONF=max_split_size_mb:64MB\n",
        "!python web_demo.py "
      ],
      "metadata": {
        "id": "AqpdVtPqEHlD"
      },
      "execution_count": null,
      "outputs": []
    },
    {
      "cell_type": "code",
      "source": [
        "#@title Run vision demo\n",
        "!git pull\n",
        "!pip install torchvision\n",
        "!pip install -U python-sat\n",
        "!pip install SwissArmyTransformer>=0.3.6 torch>1.10.0 torchvision transformers>=4.27.1 mdtex2html\n",
        "!export PYTHONIOENCODING=utf8\n",
        "!export PYTORCH_CUDA_ALLOC_CONF=max_split_size_mb:32MB\n",
        "!python web_demo_vision.py"
      ],
      "metadata": {
        "cellView": "form",
        "id": "S4zKHfzfRRZm"
      },
      "execution_count": null,
      "outputs": []
    }
  ],
  "metadata": {
    "accelerator": "GPU",
    "colab": {
      "private_outputs": true,
      "provenance": [],
      "include_colab_link": true
    },
    "gpuClass": "standard",
    "kernelspec": {
      "display_name": "Python 3",
      "language": "python",
      "name": "python3"
    },
    "language_info": {
      "name": "python",
      "version": "3.10.8"
    },
    "vscode": {
      "interpreter": {
        "hash": "e593ac106456af50ce7af38f9671c411b49d6cd90f9b885e167f0f594e09038c"
      }
    }
  },
  "nbformat": 4,
  "nbformat_minor": 0
}