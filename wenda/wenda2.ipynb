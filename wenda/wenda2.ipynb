{
  "cells": [
    {
      "cell_type": "markdown",
      "metadata": {
        "id": "view-in-github",
        "colab_type": "text"
      },
      "source": [
        "<a href=\"https://colab.research.google.com/github/alanland/colab-notebooks/blob/main/wenda/wenda2.ipynb\" target=\"_parent\"><img src=\"https://colab.research.google.com/assets/colab-badge.svg\" alt=\"Open In Colab\"/></a>"
      ]
    },
    {
      "cell_type": "code",
      "execution_count": null,
      "metadata": {
        "id": "du6mzCPzaZXb"
      },
      "outputs": [],
      "source": [
        "!nvidia-smi            # 查看GPU信息 #1"
      ]
    },
    {
      "cell_type": "code",
      "execution_count": 5,
      "metadata": {
        "id": "LLIbNMXfa7Ak",
        "colab": {
          "base_uri": "https://localhost:8080/"
        },
        "outputId": "e818031b-8cbf-41b5-e31b-ead926bd2017"
      },
      "outputs": [
        {
          "output_type": "stream",
          "name": "stdout",
          "text": [
            "/content\n",
            "\u001b[0m\u001b[01;34mchatglm-6b-int4\u001b[0m/  \u001b[01;34msample_data\u001b[0m/  \u001b[01;34mwenda\u001b[0m/\n"
          ]
        }
      ],
      "source": [
        "%cd /content\n",
        "%ls"
      ]
    },
    {
      "cell_type": "markdown",
      "metadata": {
        "id": "EWOEdo-JHPJ4"
      },
      "source": [
        "# Clone Code"
      ]
    },
    {
      "cell_type": "code",
      "execution_count": 2,
      "metadata": {
        "colab": {
          "base_uri": "https://localhost:8080/"
        },
        "id": "jHYitAAkalZ6",
        "outputId": "ae204e49-d1a1-45b0-c4de-d167712991d4"
      },
      "outputs": [
        {
          "output_type": "stream",
          "name": "stdout",
          "text": [
            "Error: Failed to call git rev-parse --git-dir: exit status 128 \n",
            "Git LFS initialized.\n",
            "/content\n",
            "Cloning into 'wenda'...\n",
            "remote: Enumerating objects: 3912, done.\u001b[K\n",
            "remote: Counting objects: 100% (1377/1377), done.\u001b[K\n",
            "remote: Compressing objects: 100% (317/317), done.\u001b[K\n",
            "remote: Total 3912 (delta 1161), reused 1095 (delta 1060), pack-reused 2535\u001b[K\n",
            "Receiving objects: 100% (3912/3912), 30.66 MiB | 30.45 MiB/s, done.\n",
            "Resolving deltas: 100% (2278/2278), done.\n"
          ]
        }
      ],
      "source": [
        "!git lfs install \n",
        "%cd /content\n",
        "# !git clone https://github.com/l15y/wenda.git\n",
        "!git clone https://github.com/alanland/wenda"
      ]
    },
    {
      "cell_type": "code",
      "execution_count": 3,
      "metadata": {
        "id": "RRjuy7jLe-9w",
        "colab": {
          "base_uri": "https://localhost:8080/"
        },
        "outputId": "eec7a6aa-61e9-4510-b149-c85f8ae4f437"
      },
      "outputs": [
        {
          "output_type": "stream",
          "name": "stdout",
          "text": [
            "/content\n",
            "Cloning into 'chatglm-6b-int4'...\n",
            "remote: Enumerating objects: 132, done.\u001b[K\n",
            "remote: Counting objects: 100% (99/99), done.\u001b[K\n",
            "remote: Compressing objects: 100% (99/99), done.\u001b[K\n",
            "remote: Total 132 (delta 56), reused 0 (delta 0), pack-reused 33\u001b[K\n",
            "Receiving objects: 100% (132/132), 84.58 KiB | 21.15 MiB/s, done.\n",
            "Resolving deltas: 100% (67/67), done.\n"
          ]
        }
      ],
      "source": [
        "%cd /content\n",
        "# %rm chatglm-6b -rf \n",
        "#!git clone https://huggingface.co/THUDM/chatglm-6b #下载chatglm-6b模型\n",
        "!git clone https://huggingface.co/THUDM/chatglm-6b-int4 #轻量小内存的模型，感觉性能较差"
      ]
    },
    {
      "cell_type": "code",
      "execution_count": null,
      "metadata": {
        "id": "e3S4wt2ejZoi"
      },
      "outputs": [],
      "source": [
        "%cd /content/wenda \n",
        "%ls\n",
        "!pip install -r requirements/requirements.txt\n",
        "%pwd"
      ]
    },
    {
      "cell_type": "markdown",
      "metadata": {
        "id": "U0-EJzkRFRnk"
      },
      "source": [
        "# Ngrok"
      ]
    },
    {
      "cell_type": "code",
      "execution_count": null,
      "metadata": {
        "id": "aGaWeeu2FQGl"
      },
      "outputs": [],
      "source": [
        "!wget https://bin.equinox.io/c/bNyj1mQVY4c/ngrok-v3-stable-linux-amd64.tgz\n",
        "!tar zxvf ngrok-v3-stable-linux-amd64.tgz\n",
        "%ls"
      ]
    },
    {
      "cell_type": "code",
      "execution_count": null,
      "metadata": {
        "id": "XfT9zGcCF5Jt"
      },
      "outputs": [],
      "source": [
        "!mv ngrok /usr/local/bin/ \n",
        "!chmod +x /usr/local/bin/ngrok\n",
        "!ngrok --help"
      ]
    },
    {
      "cell_type": "code",
      "execution_count": null,
      "metadata": {
        "id": "xv7FBtpIGEm3"
      },
      "outputs": [],
      "source": [
        "!ngrok config add-authtoken 7PaC8UJ9ZPkUj6F3ubKH4_5r9ECx78ENWatsXJmTwE8"
      ]
    },
    {
      "cell_type": "markdown",
      "metadata": {
        "id": "juVhVFWgFVjb"
      },
      "source": [
        "# Cpolar"
      ]
    },
    {
      "cell_type": "code",
      "execution_count": 9,
      "metadata": {
        "id": "LEOlBCd4hbgG",
        "colab": {
          "base_uri": "https://localhost:8080/"
        },
        "outputId": "f4488ba8-ba05-42cb-e8e6-e67dbc7d1d98"
      },
      "outputs": [
        {
          "output_type": "stream",
          "name": "stdout",
          "text": [
            "--2023-05-29 08:04:56--  https://static.cpolar.com/downloads/releases/3.3.18/cpolar-stable-linux-amd64.zip\n",
            "Resolving static.cpolar.com (static.cpolar.com)... 8.48.85.207, 2404:2280:113:0:3::3fb, 2404:2280:113:0:3::3fc\n",
            "Connecting to static.cpolar.com (static.cpolar.com)|8.48.85.207|:443... connected.\n",
            "HTTP request sent, awaiting response... 200 OK\n",
            "Length: 7423434 (7.1M) [application/zip]\n",
            "Saving to: ‘cpolar-stable-linux-amd64.zip’\n",
            "\n",
            "cpolar-stable-linux 100%[===================>]   7.08M  12.3MB/s    in 0.6s    \n",
            "\n",
            "2023-05-29 08:04:57 (12.3 MB/s) - ‘cpolar-stable-linux-amd64.zip’ saved [7423434/7423434]\n",
            "\n",
            "Archive:  cpolar-stable-linux-amd64.zip\n",
            "  inflating: cpolar                  \n"
          ]
        }
      ],
      "source": [
        "#@title cpolar install\n",
        "!wget https://static.cpolar.com/downloads/releases/3.3.18/cpolar-stable-linux-amd64.zip\n",
        "!unzip cpolar-stable-linux-amd64.zip "
      ]
    },
    {
      "cell_type": "code",
      "execution_count": null,
      "metadata": {
        "id": "ljTQE-4uh8jo"
      },
      "outputs": [],
      "source": [
        "!mv cpolar /usr/local/bin/ \n",
        "!chmod +x /usr/local/bin/cpolar\n",
        "!cpolar --help"
      ]
    },
    {
      "cell_type": "code",
      "execution_count": 11,
      "metadata": {
        "id": "b0y9n0HFi_-s",
        "colab": {
          "base_uri": "https://localhost:8080/"
        },
        "outputId": "a6fac83a-f33f-4ffa-efe1-b2175c9e10a5"
      },
      "outputs": [
        {
          "output_type": "stream",
          "name": "stdout",
          "text": [
            "Authtoken saved to configuration file: /root/.cpolar/cpolar.yml\n"
          ]
        }
      ],
      "source": [
        "!cpolar authtoken YTIzOTg1MjEtZmNiNS00NTk2LTlhM2QtY2MxYTdkMjhhMTQ2"
      ]
    },
    {
      "cell_type": "markdown",
      "metadata": {
        "id": "TdcvnUcBFevN"
      },
      "source": [
        "# Run"
      ]
    },
    {
      "cell_type": "code",
      "source": [
        "!cat config.xml"
      ],
      "metadata": {
        "id": "QQX57J9ukyOc"
      },
      "execution_count": null,
      "outputs": []
    },
    {
      "cell_type": "code",
      "execution_count": null,
      "metadata": {
        "id": "kIA7X-IGgn2Y"
      },
      "outputs": [],
      "source": [
        "%cd /content/wenda\n",
        "!git checkout main-local\n",
        "!git pull\n",
        "#!cpolar http 17860 \n",
        "!export PYTHONIOENCODING=utf8\n",
        "!export PYTORCH_CUDA_ALLOC_CONF=max_split_size_mb:32MB\n",
        "!parallel cpolar http 17860;  python wenda.py -t glm6b"
      ]
    },
    {
      "cell_type": "markdown",
      "metadata": {
        "id": "LWHnWyIpFiHv"
      },
      "source": [
        "# Debug"
      ]
    },
    {
      "cell_type": "code",
      "execution_count": null,
      "metadata": {
        "colab": {
          "base_uri": "https://localhost:8080/"
        },
        "id": "oGYtCzdrIhGP",
        "outputId": "f0f31e7c-e035-45ac-913b-05e5bf4a9907"
      },
      "outputs": [
        {
          "name": "stdout",
          "output_type": "stream",
          "text": [
            "root        8686     482  0 10:22 ?        00:00:00 /bin/bash -c ps -fA | grep wenda\n",
            "root        8688    8686  0 10:22 ?        00:00:00 grep wenda\n"
          ]
        }
      ],
      "source": [
        "!ps -fA | grep wenda"
      ]
    },
    {
      "cell_type": "code",
      "execution_count": null,
      "metadata": {
        "id": "_vNTLz9NfEEt"
      },
      "outputs": [],
      "source": [
        "!cat setting.sh #看一下模型地址和模型参数 预量化的模型也直接跑fp16 #9 如果跑知识库这时候除了考这个setting.sh还要建zsk文件夹和考知识库文件进去\n",
        "!cat run_GLM6B.sh #不用看了\n",
        "#!sh setting.sh #不用执行\n",
        "\n",
        "!sh run_GLM6B.sh #不用执行\n",
        "# !wget -q https://github.com/cloudflare/cloudflared/releases/latest/download/cloudflared-linux-amd64 -O /usr/bin/cloudflared && chmod +x /usr/bin/cloudflared #下载并授权网络映射 #10\n",
        "\n",
        "#!cloudflared --version #验证映射版本 #11 这个要看到版本说明装好\n",
        "#import os\n",
        "#os.environ['PATH'] += ':/usr/local/bin' #不用执行 "
      ]
    }
  ],
  "metadata": {
    "accelerator": "GPU",
    "colab": {
      "provenance": [],
      "authorship_tag": "ABX9TyPvEucDz9nHYLdS1Ftja0l/",
      "include_colab_link": true
    },
    "gpuClass": "standard",
    "kernelspec": {
      "display_name": "Python 3",
      "name": "python3"
    },
    "language_info": {
      "name": "python"
    }
  },
  "nbformat": 4,
  "nbformat_minor": 0
}