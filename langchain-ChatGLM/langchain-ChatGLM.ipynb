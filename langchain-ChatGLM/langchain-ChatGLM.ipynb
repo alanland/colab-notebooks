{
  "cells": [
    {
      "cell_type": "markdown",
      "metadata": {
        "id": "view-in-github",
        "colab_type": "text"
      },
      "source": [
        "<a href=\"https://colab.research.google.com/github/alanland/colab-notebooks/blob/main/langchain-ChatGLM/langchain-ChatGLM.ipynb\" target=\"_parent\"><img src=\"https://colab.research.google.com/assets/colab-badge.svg\" alt=\"Open In Colab\"/></a>"
      ]
    },
    {
      "cell_type": "markdown",
      "metadata": {
        "id": "Hg8LXAe8mt-G"
      },
      "source": [
        "*斜体文本*# **langchain-ChatGLM**\n",
        "\n",
        "\n",
        "VideoCrafter is an open-source video generation and editing toolbox for crafting video content.\n",
        "\n",
        "More details can be founded in [![GitHub](https://img.shields.io/github/stars/VideoCrafter/VideoCrafter?style=social)](https://github.com/VideoCrafter/VideoCrafter)"
      ]
    },
    {
      "cell_type": "code",
      "execution_count": null,
      "metadata": {
        "id": "ijIJmBFLebe3",
        "outputId": "580ecef8-9e76-4c16-b71c-c43a54d7c4c2",
        "colab": {
          "base_uri": "https://localhost:8080/"
        }
      },
      "outputs": [
        {
          "output_type": "stream",
          "name": "stdout",
          "text": [
            "Tesla T4, 15360 MiB, 15101 MiB\n"
          ]
        }
      ],
      "source": [
        "### make sure that CUDA is available in Edit -> Nootbook settings -> GPU\n",
        "!nvidia-smi --query-gpu=name,memory.total,memory.free --format=csv,noheader"
      ]
    },
    {
      "cell_type": "markdown",
      "metadata": {
        "id": "Jn_LkaeUmFJQ"
      },
      "source": [
        "## Installnation"
      ]
    },
    {
      "cell_type": "code",
      "execution_count": null,
      "metadata": {
        "id": "l4XypmLmfJNw",
        "cellView": "form"
      },
      "outputs": [],
      "source": [
        "#@title python 3.8\n",
        "!update-alternatives --install /usr/local/bin/python3 python3 /usr/bin/python3.8 2  \n",
        "!update-alternatives --install /usr/local/bin/python3 python3 /usr/bin/python3.9 1  \n",
        "!python --version  \n",
        "!apt-get update\n",
        "!apt install software-properties-common\n",
        "!sudo dpkg --remove --force-remove-reinstreq python3-pip python3-setuptools python3-wheel\n",
        "!apt-get install python3-pip\n",
        "\n",
        "print('Git clone project and install requirements...')\n",
        "!git clone https://github.com/VideoCrafter/VideoCrafter &> /dev/null\n",
        "%cd VideoCrafter \n",
        "!export PYTHONPATH=/content/VideoCrafter:$PYTHONPATH \n",
        "\n",
        "!python3.8 -m pip install torch==1.12.1+cu113 torchvision==0.13.1+cu113 torchaudio==0.12.1 --extra-index-url https://download.pytorch.org/whl/cu113\n",
        "!apt update\n",
        "!apt install ffmpeg &> /dev/null  \n",
        "!python3.8 -m pip install pytorch-lightning==1.8.3 omegaconf==2.1.1 einops==0.3.0 transformers==4.25.1\n",
        "!python3.8 -m pip install opencv-python==4.1.2.30 imageio==2.9.0 imageio-ffmpeg==0.4.2\n",
        "!python3.8 -m pip install av moviepy\n",
        "!python3.8 -m pip install -e ."
      ]
    },
    {
      "cell_type": "code",
      "execution_count": null,
      "metadata": {
        "id": "_y8F_z_-hd9w"
      },
      "outputs": [],
      "source": [
        "!git lfs install\n",
        "!git clone https://github.com/alanland/langchain-ChatGLM.git\n",
        "%cd langchain-ChatGLM"
      ]
    },
    {
      "cell_type": "code",
      "source": [
        "!git checkout main-local\n",
        "!git pull"
      ],
      "metadata": {
        "id": "7udHDXrw4Aq1"
      },
      "execution_count": null,
      "outputs": []
    },
    {
      "cell_type": "code",
      "source": [
        "# 项目中 pdf 加载由先前的 detectron2 替换为使用 paddleocr，如果之前有安装过 detectron2 需要先完成卸载避免引发 tools 冲突\n",
        "!pip uninstall detectron2\n",
        "\n",
        "# 检查paddleocr依赖，linux环境下paddleocr依赖libX11，libXext\n",
        "!yum install libX11\n",
        "!yum install libXext\n",
        "\n",
        "# 安装依赖\n",
        "!pip install -r requirements.txt\n",
        "\n",
        "# 验证paddleocr是否成功，首次运行会下载约18M模型到~/.paddleocr\n",
        "!python loader/image_loader.py"
      ],
      "metadata": {
        "id": "yDxaRuBP4KoO"
      },
      "execution_count": null,
      "outputs": []
    },
    {
      "cell_type": "code",
      "source": [
        "# 执行 cli_demo.py 脚本体验命令行交互：\n",
        "!python cli_demo.py"
      ],
      "metadata": {
        "id": "wpyur0ZG40Xs"
      },
      "execution_count": null,
      "outputs": []
    },
    {
      "cell_type": "code",
      "source": [
        "# 或执行 webui.py 脚本体验 Web 交互\n",
        "!python webui.py"
      ],
      "metadata": {
        "id": "vAK6L--U5BIf"
      },
      "execution_count": null,
      "outputs": []
    },
    {
      "cell_type": "code",
      "source": [
        "# 或执行 api.py 利用 fastapi 部署 API\n",
        "!python api.py"
      ],
      "metadata": {
        "id": "C3dsqf1u5DF2"
      },
      "execution_count": null,
      "outputs": []
    }
  ],
  "metadata": {
    "accelerator": "GPU",
    "colab": {
      "provenance": [],
      "include_colab_link": true
    },
    "gpuClass": "standard",
    "kernelspec": {
      "display_name": "Python 3",
      "name": "python3"
    },
    "language_info": {
      "name": "python"
    }
  },
  "nbformat": 4,
  "nbformat_minor": 0
}